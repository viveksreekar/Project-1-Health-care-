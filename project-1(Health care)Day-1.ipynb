{
 "cells": [
  {
   "cell_type": "markdown",
   "id": "24ec44d1-dd48-49aa-8447-04ec333dc2cf",
   "metadata": {},
   "source": [
    "# Problem Statement 1"
   ]
  },
  {
   "cell_type": "code",
   "execution_count": 1,
   "id": "8904e440-5992-43fe-891b-87a1b4f961d1",
   "metadata": {},
   "outputs": [],
   "source": [
    "import pandas as pd"
   ]
  },
  {
   "cell_type": "code",
   "execution_count": 4,
   "id": "0fbd85a1-6a4b-4f29-8ee7-cde1a59faed8",
   "metadata": {},
   "outputs": [],
   "source": [
    "# Load the census data into a pandas DataFrame\n",
    "census_data = pd.read_csv(r\"D:\\loudes\\census_2011.csv\")"
   ]
  },
  {
   "cell_type": "code",
   "execution_count": 5,
   "id": "1873e680-78d9-4fe9-bb65-0aba49da110f",
   "metadata": {},
   "outputs": [],
   "source": [
    "# Define the list of columns to keep\n",
    "columns_to_keep = ['State name', 'District name', 'Population', 'Male', 'Female', \n",
    "                   'Literate', 'Male_Literate', 'Female_Literate', 'Rural_Households', \n",
    "                   'Urban_Households', 'Households', 'Age_Group_0_29', 'Age_Group_30_49', \n",
    "                   'Age_Group_50', 'Age not stated']"
   ]
  },
  {
   "cell_type": "code",
   "execution_count": 6,
   "id": "0b49007c-9781-4686-a510-4e5c823f29e0",
   "metadata": {},
   "outputs": [],
   "source": [
    "# Filter the DataFrame to keep only the required columns\n",
    "relevant_census_data = census_data[columns_to_keep]"
   ]
  },
  {
   "cell_type": "code",
   "execution_count": 7,
   "id": "b6ea413e-8410-4df9-b285-7ff335c5a7b6",
   "metadata": {},
   "outputs": [
    {
     "name": "stdout",
     "output_type": "stream",
     "text": [
      "          State name District name  Population      Male    Female  Literate  \\\n",
      "0  JAMMU AND KASHMIR       Kupwara    870354.0  474190.0  396164.0  439654.0   \n",
      "1  JAMMU AND KASHMIR        Badgam    753745.0       NaN  355704.0  335649.0   \n",
      "2  JAMMU AND KASHMIR   Leh(Ladakh)    133487.0   78971.0   54516.0   93770.0   \n",
      "3  JAMMU AND KASHMIR        Kargil    140802.0       NaN   63017.0       NaN   \n",
      "4  JAMMU AND KASHMIR         Punch         NaN  251899.0  224936.0  261724.0   \n",
      "\n",
      "   Male_Literate  Female_Literate  Rural_Households  Urban_Households  \\\n",
      "0       282823.0         156831.0          158438.0               NaN   \n",
      "1       207741.0         127908.0          160649.0           27190.0   \n",
      "2        62834.0          30936.0           36920.0           17474.0   \n",
      "3        56301.0          29935.0           40370.0            7774.0   \n",
      "4       163333.0          98391.0          132139.0           15269.0   \n",
      "\n",
      "   Households  Age_Group_0_29  Age_Group_30_49  Age_Group_50  Age not stated  \n",
      "0    181664.0        600759.0         178435.0       89679.0          1481.0  \n",
      "1    187839.0        503223.0         160933.0       88978.0           611.0  \n",
      "2     54394.0         70703.0          41515.0           NaN           250.0  \n",
      "3     48144.0         87532.0          35561.0       17488.0           221.0  \n",
      "4    147408.0        304979.0         109818.0       61334.0           704.0  \n"
     ]
    }
   ],
   "source": [
    "# Display the first few rows of the resulting DataFrame\n",
    "print(relevant_census_data.head())"
   ]
  },
  {
   "cell_type": "code",
   "execution_count": 8,
   "id": "fee34661-e91f-4edd-a991-c3025e63d5bc",
   "metadata": {},
   "outputs": [],
   "source": [
    "# Optionally, you can save the filtered DataFrame to a new CSV file\n",
    "relevant_census_data.to_csv('relevant_census_data.csv', index=False)"
   ]
  },
  {
   "cell_type": "markdown",
   "id": "8af6b263-0a9b-4dd2-b2bf-0f401c3d3cfd",
   "metadata": {},
   "source": [
    "# Problem Statement 2"
   ]
  },
  {
   "cell_type": "code",
   "execution_count": 9,
   "id": "e4b158bf-1907-4cd8-9cb9-304637739fb2",
   "metadata": {},
   "outputs": [],
   "source": [
    "# Define the mapping of old column names to new column names\n",
    "column_mapping = {\n",
    "    'State name': 'State/UT',\n",
    "    'District name': 'District',\n",
    "    'Male_Literate': 'Literate_Male',\n",
    "    'Female_Literate': 'Literate_Female',\n",
    "    'Rural_Households': 'Households_Rural',\n",
    "    'Urban_Households': 'Households_Urban',\n",
    "    'Age_Group_0_29': 'Young_and_Adult',\n",
    "    'Age_Group_30_49': 'Middle_Aged',\n",
    "    'Age_Group_50': 'Senior_Citizen',\n",
    "    'Age not stated': 'Age_Not_Stated'\n",
    "}"
   ]
  },
  {
   "cell_type": "code",
   "execution_count": 10,
   "id": "182b1132-5f6b-4f14-91c4-7f6b1555189b",
   "metadata": {},
   "outputs": [],
   "source": [
    "# Rename the columns of the DataFrame\n",
    "census_data = census_data.rename(columns=column_mapping)"
   ]
  },
  {
   "cell_type": "code",
   "execution_count": 19,
   "id": "4e881509-7913-4e9a-ac01-7e4736789ce9",
   "metadata": {},
   "outputs": [
    {
     "name": "stdout",
     "output_type": "stream",
     "text": [
      "   District code           State/UT     District  Population      Male  \\\n",
      "0              1  Jammu and Kashmir      Kupwara    870354.0  474190.0   \n",
      "1              2  Jammu and Kashmir       Badgam    753745.0       NaN   \n",
      "2              3  Jammu and Kashmir  Leh(Ladakh)    133487.0   78971.0   \n",
      "3              4  Jammu and Kashmir       Kargil    140802.0       NaN   \n",
      "4              5  Jammu and Kashmir        Punch         NaN  251899.0   \n",
      "\n",
      "     Female  Literate  Literate_Male  Literate_Female      SC  ...  \\\n",
      "0  396164.0  439654.0       282823.0         156831.0  1048.0  ...   \n",
      "1  355704.0  335649.0       207741.0         127908.0     NaN  ...   \n",
      "2   54516.0   93770.0        62834.0          30936.0   488.0  ...   \n",
      "3   63017.0       NaN        56301.0          29935.0    18.0  ...   \n",
      "4  224936.0  261724.0       163333.0          98391.0   556.0  ...   \n",
      "\n",
      "   Power_Parity_Rs_90000_150000  Power_Parity_Rs_45000_150000  \\\n",
      "0                          94.0                         588.0   \n",
      "1                         126.0                         562.0   \n",
      "2                          46.0                         122.0   \n",
      "3                          27.0                         114.0   \n",
      "4                          78.0                         346.0   \n",
      "\n",
      "   Power_Parity_Rs_150000_240000  Power_Parity_Rs_240000_330000  \\\n",
      "0                           71.0                          101.0   \n",
      "1                           72.0                           89.0   \n",
      "2                           15.0                           22.0   \n",
      "3                           12.0                           18.0   \n",
      "4                           35.0                           50.0   \n",
      "\n",
      "   Power_Parity_Rs_150000_330000  Power_Parity_Rs_330000_425000  \\\n",
      "0                          172.0                           74.0   \n",
      "1                          161.0                           96.0   \n",
      "2                            NaN                           20.0   \n",
      "3                           30.0                           19.0   \n",
      "4                           85.0                           59.0   \n",
      "\n",
      "   Power_Parity_Rs_425000_545000  Power_Parity_Rs_330000_545000  \\\n",
      "0                           10.0                           84.0   \n",
      "1                           28.0                          124.0   \n",
      "2                            NaN                            NaN   \n",
      "3                            3.0                           22.0   \n",
      "4                            8.0                           67.0   \n",
      "\n",
      "   Power_Parity_Above_Rs_545000  Total_Power_Parity  \n",
      "0                          15.0              1119.0  \n",
      "1                          18.0              1066.0  \n",
      "2                          17.0               242.0  \n",
      "3                           7.0               214.0  \n",
      "4                          12.0               629.0  \n",
      "\n",
      "[5 rows x 118 columns]\n"
     ]
    }
   ],
   "source": [
    "# Display the first few rows of the resulting DataFrame\n",
    "print(census_data.head())"
   ]
  },
  {
   "cell_type": "code",
   "execution_count": 18,
   "id": "083ed5ab-76eb-4d2e-ba55-c6f3b06c0640",
   "metadata": {},
   "outputs": [],
   "source": [
    "# Optionally, you can save the DataFrame with renamed columns to a new CSV file\n",
    "census_data.to_csv('census2011_renamed.csv', index=False)"
   ]
  },
  {
   "cell_type": "markdown",
   "id": "355b13aa-71f3-43c2-a4a8-fee04918d2ba",
   "metadata": {},
   "source": [
    "# Problem Statement 3"
   ]
  },
  {
   "cell_type": "code",
   "execution_count": 13,
   "id": "6e56a7f3-fbb9-4b09-ab2e-58dc857b61d5",
   "metadata": {},
   "outputs": [],
   "source": [
    "# Define a function to capitalize State/UT names according to the specified format\n",
    "def capitalize_state_name(state_name):\n",
    "    words = state_name.lower().split()\n",
    "    capitalized_words = [word.capitalize() if word != 'and' else word for word in words]\n",
    "    return ' '.join(capitalized_words)"
   ]
  },
  {
   "cell_type": "code",
   "execution_count": 14,
   "id": "32a246fd-2271-4b54-a706-9488b478fc4f",
   "metadata": {},
   "outputs": [],
   "source": [
    "# Apply the function to capitalize State/UT names\n",
    "census_data['State/UT'] = census_data['State/UT'].apply(capitalize_state_name)"
   ]
  },
  {
   "cell_type": "code",
   "execution_count": 15,
   "id": "ed462fd7-592b-4d38-9313-dcc01aff953e",
   "metadata": {},
   "outputs": [
    {
     "name": "stdout",
     "output_type": "stream",
     "text": [
      "   District code           State/UT     District  Population      Male  \\\n",
      "0              1  Jammu and Kashmir      Kupwara    870354.0  474190.0   \n",
      "1              2  Jammu and Kashmir       Badgam    753745.0       NaN   \n",
      "2              3  Jammu and Kashmir  Leh(Ladakh)    133487.0   78971.0   \n",
      "3              4  Jammu and Kashmir       Kargil    140802.0       NaN   \n",
      "4              5  Jammu and Kashmir        Punch         NaN  251899.0   \n",
      "\n",
      "     Female  Literate  Literate_Male  Literate_Female      SC  ...  \\\n",
      "0  396164.0  439654.0       282823.0         156831.0  1048.0  ...   \n",
      "1  355704.0  335649.0       207741.0         127908.0     NaN  ...   \n",
      "2   54516.0   93770.0        62834.0          30936.0   488.0  ...   \n",
      "3   63017.0       NaN        56301.0          29935.0    18.0  ...   \n",
      "4  224936.0  261724.0       163333.0          98391.0   556.0  ...   \n",
      "\n",
      "   Power_Parity_Rs_90000_150000  Power_Parity_Rs_45000_150000  \\\n",
      "0                          94.0                         588.0   \n",
      "1                         126.0                         562.0   \n",
      "2                          46.0                         122.0   \n",
      "3                          27.0                         114.0   \n",
      "4                          78.0                         346.0   \n",
      "\n",
      "   Power_Parity_Rs_150000_240000  Power_Parity_Rs_240000_330000  \\\n",
      "0                           71.0                          101.0   \n",
      "1                           72.0                           89.0   \n",
      "2                           15.0                           22.0   \n",
      "3                           12.0                           18.0   \n",
      "4                           35.0                           50.0   \n",
      "\n",
      "   Power_Parity_Rs_150000_330000  Power_Parity_Rs_330000_425000  \\\n",
      "0                          172.0                           74.0   \n",
      "1                          161.0                           96.0   \n",
      "2                            NaN                           20.0   \n",
      "3                           30.0                           19.0   \n",
      "4                           85.0                           59.0   \n",
      "\n",
      "   Power_Parity_Rs_425000_545000  Power_Parity_Rs_330000_545000  \\\n",
      "0                           10.0                           84.0   \n",
      "1                           28.0                          124.0   \n",
      "2                            NaN                            NaN   \n",
      "3                            3.0                           22.0   \n",
      "4                            8.0                           67.0   \n",
      "\n",
      "   Power_Parity_Above_Rs_545000  Total_Power_Parity  \n",
      "0                          15.0              1119.0  \n",
      "1                          18.0              1066.0  \n",
      "2                          17.0               242.0  \n",
      "3                           7.0               214.0  \n",
      "4                          12.0               629.0  \n",
      "\n",
      "[5 rows x 118 columns]\n"
     ]
    }
   ],
   "source": [
    "# Display the first few rows of the resulting DataFrame\n",
    "print(census_data.head())"
   ]
  },
  {
   "cell_type": "code",
   "execution_count": 27,
   "id": "e43dbff2-0961-4b25-831e-6d6259b6940a",
   "metadata": {},
   "outputs": [],
   "source": [
    "# Optionally, you can save the DataFrame with updated State/UT names to a new CSV file\n",
    "census_data.to_csv('census2011_updated1.csv', index=False)"
   ]
  },
  {
   "cell_type": "markdown",
   "id": "d1e598e5-1601-4a18-9814-fb90502501ad",
   "metadata": {},
   "source": [
    "# Problem Statement 4"
   ]
  },
  {
   "cell_type": "code",
   "execution_count": 31,
   "id": "5fb78dff-f43c-409d-ba5e-391384e64086",
   "metadata": {},
   "outputs": [],
   "source": [
    "# Read the districts included in Telangana from the text file\n",
    "with open(r\"D:\\loudes\\Telangana.txt\") as file:\n",
    "    telangana_districts = file.read().splitlines()"
   ]
  },
  {
   "cell_type": "code",
   "execution_count": 23,
   "id": "53cbf5dc-55ca-485d-ab0d-dae618592f68",
   "metadata": {},
   "outputs": [],
   "source": [
    "# Rename State/UT from \"Andhra Pradesh\" to \"Telangana\" for Telangana districts\n",
    "census_data.loc[census_data['District'].isin(telangana_districts), 'State/UT'] = 'Telangana'"
   ]
  },
  {
   "cell_type": "code",
   "execution_count": 24,
   "id": "69625263-7d3e-4c47-a46a-d1d145b89d36",
   "metadata": {},
   "outputs": [
    {
     "name": "stdout",
     "output_type": "stream",
     "text": [
      "   District code           State/UT     District  Population      Male  \\\n",
      "0              1  Jammu and Kashmir      Kupwara    870354.0  474190.0   \n",
      "1              2  Jammu and Kashmir       Badgam    753745.0       NaN   \n",
      "2              3  Jammu and Kashmir  Leh(Ladakh)    133487.0   78971.0   \n",
      "3              4  Jammu and Kashmir       Kargil    140802.0       NaN   \n",
      "4              5  Jammu and Kashmir        Punch         NaN  251899.0   \n",
      "\n",
      "     Female  Literate  Literate_Male  Literate_Female      SC  ...  \\\n",
      "0  396164.0  439654.0       282823.0         156831.0  1048.0  ...   \n",
      "1  355704.0  335649.0       207741.0         127908.0     NaN  ...   \n",
      "2   54516.0   93770.0        62834.0          30936.0   488.0  ...   \n",
      "3   63017.0       NaN        56301.0          29935.0    18.0  ...   \n",
      "4  224936.0  261724.0       163333.0          98391.0   556.0  ...   \n",
      "\n",
      "   Power_Parity_Rs_90000_150000  Power_Parity_Rs_45000_150000  \\\n",
      "0                          94.0                         588.0   \n",
      "1                         126.0                         562.0   \n",
      "2                          46.0                         122.0   \n",
      "3                          27.0                         114.0   \n",
      "4                          78.0                         346.0   \n",
      "\n",
      "   Power_Parity_Rs_150000_240000  Power_Parity_Rs_240000_330000  \\\n",
      "0                           71.0                          101.0   \n",
      "1                           72.0                           89.0   \n",
      "2                           15.0                           22.0   \n",
      "3                           12.0                           18.0   \n",
      "4                           35.0                           50.0   \n",
      "\n",
      "   Power_Parity_Rs_150000_330000  Power_Parity_Rs_330000_425000  \\\n",
      "0                          172.0                           74.0   \n",
      "1                          161.0                           96.0   \n",
      "2                            NaN                           20.0   \n",
      "3                           30.0                           19.0   \n",
      "4                           85.0                           59.0   \n",
      "\n",
      "   Power_Parity_Rs_425000_545000  Power_Parity_Rs_330000_545000  \\\n",
      "0                           10.0                           84.0   \n",
      "1                           28.0                          124.0   \n",
      "2                            NaN                            NaN   \n",
      "3                            3.0                           22.0   \n",
      "4                            8.0                           67.0   \n",
      "\n",
      "   Power_Parity_Above_Rs_545000  Total_Power_Parity  \n",
      "0                          15.0              1119.0  \n",
      "1                          18.0              1066.0  \n",
      "2                          17.0               242.0  \n",
      "3                           7.0               214.0  \n",
      "4                          12.0               629.0  \n",
      "\n",
      "[5 rows x 118 columns]\n"
     ]
    }
   ],
   "source": [
    "# Display the first few rows of the resulting DataFrame\n",
    "print(census_data.head())"
   ]
  },
  {
   "cell_type": "code",
   "execution_count": 28,
   "id": "11e3ccc8-67f0-4edf-b61d-e5c1fdd19f9f",
   "metadata": {},
   "outputs": [],
   "source": [
    "# Optionally, you can save the DataFrame with updated State/UT names to a new CSV file\n",
    "census_data.to_csv('census2011_updated2.csv', index=False)"
   ]
  },
  {
   "cell_type": "code",
   "execution_count": null,
   "id": "ca33032b-82d0-4f2f-88ac-875ca8118c81",
   "metadata": {},
   "outputs": [],
   "source": []
  }
 ],
 "metadata": {
  "kernelspec": {
   "display_name": "Python 3 (ipykernel)",
   "language": "python",
   "name": "python3"
  },
  "language_info": {
   "codemirror_mode": {
    "name": "ipython",
    "version": 3
   },
   "file_extension": ".py",
   "mimetype": "text/x-python",
   "name": "python",
   "nbconvert_exporter": "python",
   "pygments_lexer": "ipython3",
   "version": "3.12.2"
  }
 },
 "nbformat": 4,
 "nbformat_minor": 5
}
